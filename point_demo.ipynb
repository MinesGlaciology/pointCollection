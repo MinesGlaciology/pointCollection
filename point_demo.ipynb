{
 "cells": [
  {
   "cell_type": "code",
   "execution_count": 81,
   "metadata": {},
   "outputs": [
    {
     "name": "stdout",
     "output_type": "stream",
     "text": [
      "The autoreload extension is already loaded. To reload it, use:\n",
      "  %reload_ext autoreload\n"
     ]
    }
   ],
   "source": [
    "import numpy as np\n",
    "import pointCollection as pc\n",
    "import matplotlib.pyplot as plt\n",
    "import os\n",
    "%load_ext autoreload\n",
    "%autoreload 2"
   ]
  },
  {
   "cell_type": "markdown",
   "metadata": {},
   "source": [
    "The simplest way to create a data object is from a dictionary, using the from_dict() method:"
   ]
  },
  {
   "cell_type": "code",
   "execution_count": 73,
   "metadata": {},
   "outputs": [
    {
     "name": "stdout",
     "output_type": "stream",
     "text": [
      "<class 'pointCollection.data.data'> with shape (10,),\n",
      "with fields:\n",
      "['x', 'y', 'z']\n"
     ]
    },
    {
     "data": {
      "text/plain": [
       "<matplotlib.collections.PathCollection at 0x122ef62b0>"
      ]
     },
     "execution_count": 73,
     "metadata": {},
     "output_type": "execute_result"
    },
    {
     "data": {
      "image/png": "[encoded data removed]",
      "text/plain": [
       "<Figure size 432x288 with 1 Axes>"
      ]
     },
     "metadata": {
      "needs_background": "light"
     },
     "output_type": "display_data"
    }
   ],
   "source": [
    "x=np.arange(10)\n",
    "y=x**2\n",
    "z=y\n",
    "D = pc.data().from_dict({'x':x,'y':y,'z':z})\n",
    "print(D)\n",
    "plt.figure(1); plt.scatter(D.x, D.y, c=D.z)"
   ]
  },
  {
   "cell_type": "markdown",
   "metadata": {},
   "source": [
    "It is also possible to create a data object from a list of other data objects using the from_list() method. The resulting object will have all of the fields from all of the items in the list, with missing fields filled in with NaNs"
   ]
  },
  {
   "cell_type": "code",
   "execution_count": 74,
   "metadata": {},
   "outputs": [
    {
     "name": "stdout",
     "output_type": "stream",
     "text": [
      "<class 'pointCollection.data.data'> with shape (20,),\n",
      "with fields:\n",
      "['t', 'z', 'x', 'y']\n",
      "D2.t is:\n",
      "[nan nan nan nan nan nan nan nan nan nan -2. -1.  0.  1.  2.  3.  4.  5.\n",
      "  6.  7.]\n"
     ]
    },
    {
     "data": {
      "text/plain": [
       "<matplotlib.collections.PathCollection at 0x122f4ef98>"
      ]
     },
     "execution_count": 74,
     "metadata": {},
     "output_type": "execute_result"
    },
    {
     "data": {
      "image/png": "[encoded data removed]",
      "text/plain": [
       "<Figure size 432x288 with 1 Axes>"
      ]
     },
     "metadata": {
      "needs_background": "light"
     },
     "output_type": "display_data"
    }
   ],
   "source": [
    "D1 = pc.data().from_dict({'x':-x,'y':-y,'z':z,'t':x-2})\n",
    "D2 = pc.data().from_list([D, D1])\n",
    "print(D2)\n",
    "print(\"D2.t is:\")\n",
    "print(D2.t)\n",
    "plt.figure(2); plt.scatter(D2.x, D2.y, c=D2.z)"
   ]
  },
  {
   "cell_type": "markdown",
   "metadata": {},
   "source": [
    "Data structures can also be sliced using bracket notation, which is an alternative for the copy_subset() method.  If the data() structure has the columns keyword set, then a 1-d slice index will return a data structure with dimensions n x N_cols, otherwise it will be 1-D."
   ]
  },
  {
   "cell_type": "code",
   "execution_count": 75,
   "metadata": {},
   "outputs": [
    {
     "name": "stdout",
     "output_type": "stream",
     "text": [
      "<class 'pointCollection.data.data'> with shape (8,),\n",
      "with fields:\n",
      "['t', 'z', 'x', 'y']\n"
     ]
    },
    {
     "data": {
      "text/plain": [
       "<matplotlib.collections.PathCollection at 0x122d59ef0>"
      ]
     },
     "execution_count": 75,
     "metadata": {},
     "output_type": "execute_result"
    },
    {
     "data": {
      "image/png": "[encoded data removed]",
      "text/plain": [
       "<Figure size 432x288 with 1 Axes>"
      ]
     },
     "metadata": {
      "needs_background": "light"
     },
     "output_type": "display_data"
    }
   ],
   "source": [
    "D3=D2[np.abs(D2.x)< 4]\n",
    "print(D3)\n",
    "plt.figure(3); plt.scatter(D3.x, D3.y, c=D3.z)"
   ]
  },
  {
   "cell_type": "markdown",
   "metadata": {},
   "source": [
    "_data_ objects can be written to hdf5 files with the to_h5() method, and the destination group is specified with the group keyword.  Reading from a file uses the from_h5() method."
   ]
  },
  {
   "cell_type": "code",
   "execution_count": 76,
   "metadata": {},
   "outputs": [
    {
     "name": "stdout",
     "output_type": "stream",
     "text": [
      "wrote data:\n",
      "<class 'pointCollection.data.data'> with shape (20,),\n",
      "with fields:\n",
      "['t', 'z', 'x', 'y']\n",
      "read data:\n",
      "<class 'pointCollection.data.data'> with shape (20,),\n",
      "with fields:\n",
      "['t', 'x', 'y', 'z']\n"
     ]
    }
   ],
   "source": [
    "D2.to_h5('data_test.h5', replace=True, group='dummy')\n",
    "D4=pc.data().from_h5('data_test.h5', group='dummy')\n",
    "print(\"wrote data:\")\n",
    "print(D2)\n",
    "print(\"read data:\")\n",
    "print(D4)"
   ]
  },
  {
   "cell_type": "markdown",
   "metadata": {},
   "source": [
    "Data types other than the basic _data_ class are added by introducing subclasses into the pointCollection module.  One example is the ATL06 data type:"
   ]
  },
  {
   "cell_type": "code",
   "execution_count": 77,
   "metadata": {},
   "outputs": [],
   "source": [
    "ATL06_file=os.path.dirname(pc.__file__)+'/test_data/ATL06_20190205041106_05910210_209_01.h5'\n",
    "D_06=pc.ATL06.data().from_h5(ATL06_file)\n",
    "print(D_06)"
   ]
  },
  {
   "cell_type": "markdown",
   "metadata": {},
   "source": [
    "_data_ objects have a get_xy() method that creates x and y fields based on latitude and longitude fields.  It takes an argument specifying the coordinate system, which can either be a proj4 string (as a keyword or non-keyword argument) or an EPSG number (as a keyword)"
   ]
  },
  {
   "cell_type": "code",
   "execution_count": 80,
   "metadata": {},
   "outputs": [
    {
     "data": {
      "image/png": "[encoded data removed]",
      "text/plain": [
       "<Figure size 432x288 with 1 Axes>"
      ]
     },
     "metadata": {
      "needs_background": "light"
     },
     "output_type": "display_data"
    }
   ],
   "source": [
    "D_06.get_xy(EPSG=3031)\n",
    "# equivalent to D_06.get_xy(+proj=stere +lat_0=-90 +lat_ts=-71 +lon_0=0 +k=1 +x_0=0 +y_0=0 +datum=WGS84 +units=m +no_defs')\n",
    "plt.figure()\n",
    "plt.plot(D_06.x, D_06.y, '.'); plt.xlabel('x'); plt.ylabel('y')\n",
    "plt.axis('equal');"
   ]
  },
  {
   "cell_type": "code",
   "execution_count": null,
   "metadata": {},
   "outputs": [],
   "source": []
  }
 ],
 "metadata": {
  "kernelspec": {
   "display_name": "Python 3",
   "language": "python",
   "name": "python3"
  },
  "language_info": {
   "codemirror_mode": {
    "name": "ipython",
    "version": 3
   },
   "file_extension": ".py",
   "mimetype": "text/x-python",
   "name": "python",
   "nbconvert_exporter": "python",
   "pygments_lexer": "ipython3",
   "version": "3.7.3"
  }
 },
 "nbformat": 4,
 "nbformat_minor": 2
}
